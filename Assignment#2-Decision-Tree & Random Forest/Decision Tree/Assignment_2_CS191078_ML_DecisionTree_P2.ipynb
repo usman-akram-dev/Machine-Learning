{
  "nbformat": 4,
  "nbformat_minor": 0,
  "metadata": {
    "colab": {
      "name": "Assignment_2_CS191078_ML-DecisionTree-P2.ipynb",
      "provenance": [],
      "collapsed_sections": []
    },
    "kernelspec": {
      "name": "python3",
      "display_name": "Python 3"
    },
    "language_info": {
      "name": "python"
    }
  },
  "cells": [
    {
      "cell_type": "code",
      "execution_count": null,
      "metadata": {
        "id": "wfsGc2JuE9Av"
      },
      "outputs": [],
      "source": [
        "import pandas as pd\n",
        "from sklearn import tree\n",
        "from sklearn.model_selection import train_test_split "
      ]
    },
    {
      "cell_type": "code",
      "source": [
        "col_names = ['pregnant', 'glucose', 'bp', 'skin', 'insulin', 'bmi', 'pedigree', 'age', 'label']\n",
        "# load dataset\n",
        "data = pd.read_csv(\"diabetes.csv\", header=None, names=col_names)\n"
      ],
      "metadata": {
        "id": "egVQ95qbFxP8"
      },
      "execution_count": null,
      "outputs": []
    },
    {
      "cell_type": "code",
      "source": [
        "data = data.iloc[1:]"
      ],
      "metadata": {
        "id": "VBQvXeAwQ1ij"
      },
      "execution_count": null,
      "outputs": []
    },
    {
      "cell_type": "code",
      "source": [
        "data.head()"
      ],
      "metadata": {
        "colab": {
          "base_uri": "https://localhost:8080/",
          "height": 206
        },
        "id": "U6n8Ys9cGX0-",
        "outputId": "f790ab30-e159-477e-eafc-4bfb23c37af4"
      },
      "execution_count": null,
      "outputs": [
        {
          "output_type": "execute_result",
          "data": {
            "text/plain": [
              "  pregnant glucose  bp skin insulin   bmi pedigree age label\n",
              "1        6     148  72   35       0  33.6    0.627  50     1\n",
              "2        1      85  66   29       0  26.6    0.351  31     0\n",
              "3        8     183  64    0       0  23.3    0.672  32     1\n",
              "4        1      89  66   23      94  28.1    0.167  21     0\n",
              "5        0     137  40   35     168  43.1    2.288  33     1"
            ],
            "text/html": [
              "\n",
              "  <div id=\"df-47dd8d7c-f9f5-4ccd-9be8-19c2fe350d2d\">\n",
              "    <div class=\"colab-df-container\">\n",
              "      <div>\n",
              "<style scoped>\n",
              "    .dataframe tbody tr th:only-of-type {\n",
              "        vertical-align: middle;\n",
              "    }\n",
              "\n",
              "    .dataframe tbody tr th {\n",
              "        vertical-align: top;\n",
              "    }\n",
              "\n",
              "    .dataframe thead th {\n",
              "        text-align: right;\n",
              "    }\n",
              "</style>\n",
              "<table border=\"1\" class=\"dataframe\">\n",
              "  <thead>\n",
              "    <tr style=\"text-align: right;\">\n",
              "      <th></th>\n",
              "      <th>pregnant</th>\n",
              "      <th>glucose</th>\n",
              "      <th>bp</th>\n",
              "      <th>skin</th>\n",
              "      <th>insulin</th>\n",
              "      <th>bmi</th>\n",
              "      <th>pedigree</th>\n",
              "      <th>age</th>\n",
              "      <th>label</th>\n",
              "    </tr>\n",
              "  </thead>\n",
              "  <tbody>\n",
              "    <tr>\n",
              "      <th>1</th>\n",
              "      <td>6</td>\n",
              "      <td>148</td>\n",
              "      <td>72</td>\n",
              "      <td>35</td>\n",
              "      <td>0</td>\n",
              "      <td>33.6</td>\n",
              "      <td>0.627</td>\n",
              "      <td>50</td>\n",
              "      <td>1</td>\n",
              "    </tr>\n",
              "    <tr>\n",
              "      <th>2</th>\n",
              "      <td>1</td>\n",
              "      <td>85</td>\n",
              "      <td>66</td>\n",
              "      <td>29</td>\n",
              "      <td>0</td>\n",
              "      <td>26.6</td>\n",
              "      <td>0.351</td>\n",
              "      <td>31</td>\n",
              "      <td>0</td>\n",
              "    </tr>\n",
              "    <tr>\n",
              "      <th>3</th>\n",
              "      <td>8</td>\n",
              "      <td>183</td>\n",
              "      <td>64</td>\n",
              "      <td>0</td>\n",
              "      <td>0</td>\n",
              "      <td>23.3</td>\n",
              "      <td>0.672</td>\n",
              "      <td>32</td>\n",
              "      <td>1</td>\n",
              "    </tr>\n",
              "    <tr>\n",
              "      <th>4</th>\n",
              "      <td>1</td>\n",
              "      <td>89</td>\n",
              "      <td>66</td>\n",
              "      <td>23</td>\n",
              "      <td>94</td>\n",
              "      <td>28.1</td>\n",
              "      <td>0.167</td>\n",
              "      <td>21</td>\n",
              "      <td>0</td>\n",
              "    </tr>\n",
              "    <tr>\n",
              "      <th>5</th>\n",
              "      <td>0</td>\n",
              "      <td>137</td>\n",
              "      <td>40</td>\n",
              "      <td>35</td>\n",
              "      <td>168</td>\n",
              "      <td>43.1</td>\n",
              "      <td>2.288</td>\n",
              "      <td>33</td>\n",
              "      <td>1</td>\n",
              "    </tr>\n",
              "  </tbody>\n",
              "</table>\n",
              "</div>\n",
              "      <button class=\"colab-df-convert\" onclick=\"convertToInteractive('df-47dd8d7c-f9f5-4ccd-9be8-19c2fe350d2d')\"\n",
              "              title=\"Convert this dataframe to an interactive table.\"\n",
              "              style=\"display:none;\">\n",
              "        \n",
              "  <svg xmlns=\"http://www.w3.org/2000/svg\" height=\"24px\"viewBox=\"0 0 24 24\"\n",
              "       width=\"24px\">\n",
              "    <path d=\"M0 0h24v24H0V0z\" fill=\"none\"/>\n",
              "    <path d=\"M18.56 5.44l.94 2.06.94-2.06 2.06-.94-2.06-.94-.94-2.06-.94 2.06-2.06.94zm-11 1L8.5 8.5l.94-2.06 2.06-.94-2.06-.94L8.5 2.5l-.94 2.06-2.06.94zm10 10l.94 2.06.94-2.06 2.06-.94-2.06-.94-.94-2.06-.94 2.06-2.06.94z\"/><path d=\"M17.41 7.96l-1.37-1.37c-.4-.4-.92-.59-1.43-.59-.52 0-1.04.2-1.43.59L10.3 9.45l-7.72 7.72c-.78.78-.78 2.05 0 2.83L4 21.41c.39.39.9.59 1.41.59.51 0 1.02-.2 1.41-.59l7.78-7.78 2.81-2.81c.8-.78.8-2.07 0-2.86zM5.41 20L4 18.59l7.72-7.72 1.47 1.35L5.41 20z\"/>\n",
              "  </svg>\n",
              "      </button>\n",
              "      \n",
              "  <style>\n",
              "    .colab-df-container {\n",
              "      display:flex;\n",
              "      flex-wrap:wrap;\n",
              "      gap: 12px;\n",
              "    }\n",
              "\n",
              "    .colab-df-convert {\n",
              "      background-color: #E8F0FE;\n",
              "      border: none;\n",
              "      border-radius: 50%;\n",
              "      cursor: pointer;\n",
              "      display: none;\n",
              "      fill: #1967D2;\n",
              "      height: 32px;\n",
              "      padding: 0 0 0 0;\n",
              "      width: 32px;\n",
              "    }\n",
              "\n",
              "    .colab-df-convert:hover {\n",
              "      background-color: #E2EBFA;\n",
              "      box-shadow: 0px 1px 2px rgba(60, 64, 67, 0.3), 0px 1px 3px 1px rgba(60, 64, 67, 0.15);\n",
              "      fill: #174EA6;\n",
              "    }\n",
              "\n",
              "    [theme=dark] .colab-df-convert {\n",
              "      background-color: #3B4455;\n",
              "      fill: #D2E3FC;\n",
              "    }\n",
              "\n",
              "    [theme=dark] .colab-df-convert:hover {\n",
              "      background-color: #434B5C;\n",
              "      box-shadow: 0px 1px 3px 1px rgba(0, 0, 0, 0.15);\n",
              "      filter: drop-shadow(0px 1px 2px rgba(0, 0, 0, 0.3));\n",
              "      fill: #FFFFFF;\n",
              "    }\n",
              "  </style>\n",
              "\n",
              "      <script>\n",
              "        const buttonEl =\n",
              "          document.querySelector('#df-47dd8d7c-f9f5-4ccd-9be8-19c2fe350d2d button.colab-df-convert');\n",
              "        buttonEl.style.display =\n",
              "          google.colab.kernel.accessAllowed ? 'block' : 'none';\n",
              "\n",
              "        async function convertToInteractive(key) {\n",
              "          const element = document.querySelector('#df-47dd8d7c-f9f5-4ccd-9be8-19c2fe350d2d');\n",
              "          const dataTable =\n",
              "            await google.colab.kernel.invokeFunction('convertToInteractive',\n",
              "                                                     [key], {});\n",
              "          if (!dataTable) return;\n",
              "\n",
              "          const docLinkHtml = 'Like what you see? Visit the ' +\n",
              "            '<a target=\"_blank\" href=https://colab.research.google.com/notebooks/data_table.ipynb>data table notebook</a>'\n",
              "            + ' to learn more about interactive tables.';\n",
              "          element.innerHTML = '';\n",
              "          dataTable['output_type'] = 'display_data';\n",
              "          await google.colab.output.renderOutput(dataTable, element);\n",
              "          const docLink = document.createElement('div');\n",
              "          docLink.innerHTML = docLinkHtml;\n",
              "          element.appendChild(docLink);\n",
              "        }\n",
              "      </script>\n",
              "    </div>\n",
              "  </div>\n",
              "  "
            ]
          },
          "metadata": {},
          "execution_count": 113
        }
      ]
    },
    {
      "cell_type": "code",
      "source": [
        "#split dataset in features and target variable\n",
        "feature_cols = ['pregnant', 'insulin', 'bmi', 'age','glucose','bp','pedigree']"
      ],
      "metadata": {
        "id": "1UzgtCcKGkLr"
      },
      "execution_count": null,
      "outputs": []
    },
    {
      "cell_type": "code",
      "source": [
        "X = data[feature_cols]"
      ],
      "metadata": {
        "id": "rpkjabpnGtBC"
      },
      "execution_count": null,
      "outputs": []
    },
    {
      "cell_type": "code",
      "source": [
        "y = data.label # Target variable"
      ],
      "metadata": {
        "id": "9mrQGm99N4O6"
      },
      "execution_count": null,
      "outputs": []
    },
    {
      "cell_type": "code",
      "source": [
        "# Split dataset into training set and test set\n",
        "X_train, X_test, y_train, y_test = train_test_split(X, y, test_size=0.3, random_state=1) # 70% training and 30% test"
      ],
      "metadata": {
        "id": "4PRDRwdYN75d"
      },
      "execution_count": null,
      "outputs": []
    },
    {
      "cell_type": "code",
      "source": [
        "clf = DecisionTreeClassifier()"
      ],
      "metadata": {
        "id": "rfxZDv-COAgL"
      },
      "execution_count": null,
      "outputs": []
    },
    {
      "cell_type": "code",
      "source": [
        "clf = clf.fit(X_train,y_train)"
      ],
      "metadata": {
        "id": "IeWRkP8ZQ-St"
      },
      "execution_count": null,
      "outputs": []
    },
    {
      "cell_type": "code",
      "source": [
        "clf.predict(X_test)"
      ],
      "metadata": {
        "colab": {
          "base_uri": "https://localhost:8080/"
        },
        "id": "oumuBoIkQ-eK",
        "outputId": "0da9f191-20ee-4e14-9b58-acc1ed57356c"
      },
      "execution_count": null,
      "outputs": [
        {
          "output_type": "execute_result",
          "data": {
            "text/plain": [
              "array(['0', '0', '0', '0', '0', '0', '0', '0', '0', '0', '0', '1', '0',\n",
              "       '1', '0', '0', '0', '1', '0', '1', '1', '0', '1', '0', '0', '1',\n",
              "       '0', '1', '0', '0', '0', '1', '0', '1', '1', '0', '0', '1', '0',\n",
              "       '1', '0', '0', '0', '0', '0', '0', '0', '1', '0', '0', '0', '1',\n",
              "       '1', '0', '1', '0', '1', '0', '0', '1', '0', '0', '0', '0', '1',\n",
              "       '0', '0', '0', '1', '1', '1', '1', '0', '0', '1', '0', '1', '0',\n",
              "       '0', '1', '0', '0', '1', '0', '0', '1', '0', '1', '1', '0', '0',\n",
              "       '0', '1', '0', '1', '0', '1', '0', '1', '0', '0', '0', '1', '0',\n",
              "       '0', '0', '0', '1', '0', '0', '1', '0', '0', '0', '0', '0', '0',\n",
              "       '0', '1', '0', '0', '1', '0', '0', '0', '0', '0', '0', '0', '0',\n",
              "       '1', '0', '0', '0', '0', '0', '0', '1', '0', '0', '0', '0', '0',\n",
              "       '0', '0', '0', '1', '0', '0', '0', '1', '0', '1', '0', '1', '0',\n",
              "       '1', '0', '0', '0', '1', '0', '0', '0', '1', '0', '0', '1', '1',\n",
              "       '1', '1', '1', '0', '0', '1', '0', '1', '0', '0', '0', '1', '1',\n",
              "       '0', '1', '0', '0', '0', '1', '0', '0', '0', '0', '0', '0', '1',\n",
              "       '0', '1', '0', '0', '1', '1', '0', '1', '0', '1', '1', '0', '0',\n",
              "       '0', '0', '0', '0', '0', '1', '1', '1', '0', '0', '0', '0', '0',\n",
              "       '0', '0', '0', '0', '0', '0', '0', '0', '1', '0'], dtype=object)"
            ]
          },
          "metadata": {},
          "execution_count": 120
        }
      ]
    },
    {
      "cell_type": "code",
      "source": [
        "clf.score(X_test, y_test)"
      ],
      "metadata": {
        "colab": {
          "base_uri": "https://localhost:8080/"
        },
        "id": "CN4rpdhLQ-nI",
        "outputId": "9bafe711-f7f0-4505-9004-a3be1e62b8e0"
      },
      "execution_count": null,
      "outputs": [
        {
          "output_type": "execute_result",
          "data": {
            "text/plain": [
              "0.670995670995671"
            ]
          },
          "metadata": {},
          "execution_count": 121
        }
      ]
    },
    {
      "cell_type": "code",
      "source": [
        "tree.plot_tree(clf)"
      ],
      "metadata": {
        "colab": {
          "base_uri": "https://localhost:8080/",
          "height": 1000
        },
        "id": "bzil8INCSB_g",
        "outputId": "dc5e8d0c-ccf3-41ce-855f-657f02c2d238"
      },
      "execution_count": null,
      "outputs": [
        {
          "output_type": "execute_result",
          "data": {
            "text/plain": [
              "[Text(0.40873579545454547, 0.96875, 'X[4] <= 129.5\\ngini = 0.449\\nsamples = 537\\nvalue = [354, 183]'),\n",
              " Text(0.15021306818181818, 0.90625, 'X[2] <= 26.3\\ngini = 0.329\\nsamples = 357\\nvalue = [283, 74]'),\n",
              " Text(0.045454545454545456, 0.84375, 'X[2] <= 9.1\\ngini = 0.06\\nsamples = 97\\nvalue = [94, 3]'),\n",
              " Text(0.022727272727272728, 0.78125, 'X[0] <= 7.5\\ngini = 0.444\\nsamples = 6\\nvalue = [4, 2]'),\n",
              " Text(0.011363636363636364, 0.71875, 'gini = 0.0\\nsamples = 4\\nvalue = [4, 0]'),\n",
              " Text(0.03409090909090909, 0.71875, 'gini = 0.0\\nsamples = 2\\nvalue = [0, 2]'),\n",
              " Text(0.06818181818181818, 0.78125, 'X[6] <= 0.669\\ngini = 0.022\\nsamples = 91\\nvalue = [90, 1]'),\n",
              " Text(0.056818181818181816, 0.71875, 'gini = 0.0\\nsamples = 76\\nvalue = [76, 0]'),\n",
              " Text(0.07954545454545454, 0.71875, 'X[6] <= 0.705\\ngini = 0.124\\nsamples = 15\\nvalue = [14, 1]'),\n",
              " Text(0.06818181818181818, 0.65625, 'gini = 0.0\\nsamples = 1\\nvalue = [0, 1]'),\n",
              " Text(0.09090909090909091, 0.65625, 'gini = 0.0\\nsamples = 14\\nvalue = [14, 0]'),\n",
              " Text(0.2549715909090909, 0.84375, 'X[3] <= 27.5\\ngini = 0.397\\nsamples = 260\\nvalue = [189, 71]'),\n",
              " Text(0.14772727272727273, 0.78125, 'X[2] <= 45.4\\ngini = 0.243\\nsamples = 120\\nvalue = [103, 17]'),\n",
              " Text(0.125, 0.71875, 'X[0] <= 7.0\\ngini = 0.212\\nsamples = 116\\nvalue = [102, 14]'),\n",
              " Text(0.11363636363636363, 0.65625, 'X[5] <= 12.0\\ngini = 0.201\\nsamples = 115\\nvalue = [102, 13]'),\n",
              " Text(0.10227272727272728, 0.59375, 'gini = 0.0\\nsamples = 1\\nvalue = [0, 1]'),\n",
              " Text(0.125, 0.59375, 'X[6] <= 1.272\\ngini = 0.188\\nsamples = 114\\nvalue = [102, 12]'),\n",
              " Text(0.10227272727272728, 0.53125, 'X[2] <= 30.95\\ngini = 0.165\\nsamples = 110\\nvalue = [100, 10]'),\n",
              " Text(0.09090909090909091, 0.46875, 'gini = 0.0\\nsamples = 43\\nvalue = [43, 0]'),\n",
              " Text(0.11363636363636363, 0.46875, 'X[5] <= 53.0\\ngini = 0.254\\nsamples = 67\\nvalue = [57, 10]'),\n",
              " Text(0.08522727272727272, 0.40625, 'X[0] <= 2.5\\ngini = 0.5\\nsamples = 6\\nvalue = [3, 3]'),\n",
              " Text(0.07386363636363637, 0.34375, 'X[6] <= 0.566\\ngini = 0.375\\nsamples = 4\\nvalue = [3, 1]'),\n",
              " Text(0.0625, 0.28125, 'gini = 0.0\\nsamples = 3\\nvalue = [3, 0]'),\n",
              " Text(0.08522727272727272, 0.28125, 'gini = 0.0\\nsamples = 1\\nvalue = [0, 1]'),\n",
              " Text(0.09659090909090909, 0.34375, 'gini = 0.0\\nsamples = 2\\nvalue = [0, 2]'),\n",
              " Text(0.14204545454545456, 0.40625, 'X[6] <= 0.652\\ngini = 0.203\\nsamples = 61\\nvalue = [54, 7]'),\n",
              " Text(0.11931818181818182, 0.34375, 'X[1] <= 36.5\\ngini = 0.15\\nsamples = 49\\nvalue = [45, 4]'),\n",
              " Text(0.10795454545454546, 0.28125, 'X[1] <= 34.0\\ngini = 0.32\\nsamples = 20\\nvalue = [16, 4]'),\n",
              " Text(0.09659090909090909, 0.21875, 'X[2] <= 33.65\\ngini = 0.266\\nsamples = 19\\nvalue = [16, 3]'),\n",
              " Text(0.07386363636363637, 0.15625, 'X[5] <= 71.0\\ngini = 0.444\\nsamples = 6\\nvalue = [4, 2]'),\n",
              " Text(0.0625, 0.09375, 'gini = 0.0\\nsamples = 3\\nvalue = [3, 0]'),\n",
              " Text(0.08522727272727272, 0.09375, 'X[6] <= 0.44\\ngini = 0.444\\nsamples = 3\\nvalue = [1, 2]'),\n",
              " Text(0.07386363636363637, 0.03125, 'gini = 0.0\\nsamples = 2\\nvalue = [0, 2]'),\n",
              " Text(0.09659090909090909, 0.03125, 'gini = 0.0\\nsamples = 1\\nvalue = [1, 0]'),\n",
              " Text(0.11931818181818182, 0.15625, 'X[6] <= 0.458\\ngini = 0.142\\nsamples = 13\\nvalue = [12, 1]'),\n",
              " Text(0.10795454545454546, 0.09375, 'gini = 0.0\\nsamples = 11\\nvalue = [11, 0]'),\n",
              " Text(0.13068181818181818, 0.09375, 'X[3] <= 24.0\\ngini = 0.5\\nsamples = 2\\nvalue = [1, 1]'),\n",
              " Text(0.11931818181818182, 0.03125, 'gini = 0.0\\nsamples = 1\\nvalue = [1, 0]'),\n",
              " Text(0.14204545454545456, 0.03125, 'gini = 0.0\\nsamples = 1\\nvalue = [0, 1]'),\n",
              " Text(0.11931818181818182, 0.21875, 'gini = 0.0\\nsamples = 1\\nvalue = [0, 1]'),\n",
              " Text(0.13068181818181818, 0.28125, 'gini = 0.0\\nsamples = 29\\nvalue = [29, 0]'),\n",
              " Text(0.16477272727272727, 0.34375, 'X[1] <= 65.5\\ngini = 0.375\\nsamples = 12\\nvalue = [9, 3]'),\n",
              " Text(0.1534090909090909, 0.28125, 'gini = 0.0\\nsamples = 7\\nvalue = [7, 0]'),\n",
              " Text(0.17613636363636365, 0.28125, 'X[2] <= 38.55\\ngini = 0.48\\nsamples = 5\\nvalue = [2, 3]'),\n",
              " Text(0.16477272727272727, 0.21875, 'gini = 0.0\\nsamples = 3\\nvalue = [0, 3]'),\n",
              " Text(0.1875, 0.21875, 'gini = 0.0\\nsamples = 2\\nvalue = [2, 0]'),\n",
              " Text(0.14772727272727273, 0.53125, 'X[6] <= 1.496\\ngini = 0.5\\nsamples = 4\\nvalue = [2, 2]'),\n",
              " Text(0.13636363636363635, 0.46875, 'gini = 0.0\\nsamples = 2\\nvalue = [0, 2]'),\n",
              " Text(0.1590909090909091, 0.46875, 'gini = 0.0\\nsamples = 2\\nvalue = [2, 0]'),\n",
              " Text(0.13636363636363635, 0.65625, 'gini = 0.0\\nsamples = 1\\nvalue = [0, 1]'),\n",
              " Text(0.17045454545454544, 0.71875, 'X[1] <= 185.0\\ngini = 0.375\\nsamples = 4\\nvalue = [1, 3]'),\n",
              " Text(0.1590909090909091, 0.65625, 'gini = 0.0\\nsamples = 3\\nvalue = [0, 3]'),\n",
              " Text(0.18181818181818182, 0.65625, 'gini = 0.0\\nsamples = 1\\nvalue = [1, 0]'),\n",
              " Text(0.3622159090909091, 0.78125, 'X[6] <= 0.563\\ngini = 0.474\\nsamples = 140\\nvalue = [86, 54]'),\n",
              " Text(0.26988636363636365, 0.71875, 'X[4] <= 101.5\\ngini = 0.408\\nsamples = 98\\nvalue = [70, 28]'),\n",
              " Text(0.20454545454545456, 0.65625, 'X[5] <= 27.0\\ngini = 0.208\\nsamples = 34\\nvalue = [30, 4]'),\n",
              " Text(0.19318181818181818, 0.59375, 'gini = 0.0\\nsamples = 1\\nvalue = [0, 1]'),\n",
              " Text(0.2159090909090909, 0.59375, 'X[3] <= 42.5\\ngini = 0.165\\nsamples = 33\\nvalue = [30, 3]'),\n",
              " Text(0.20454545454545456, 0.53125, 'gini = 0.0\\nsamples = 23\\nvalue = [23, 0]'),\n",
              " Text(0.22727272727272727, 0.53125, 'X[4] <= 97.5\\ngini = 0.42\\nsamples = 10\\nvalue = [7, 3]'),\n",
              " Text(0.2159090909090909, 0.46875, 'X[4] <= 76.0\\ngini = 0.5\\nsamples = 6\\nvalue = [3, 3]'),\n",
              " Text(0.20454545454545456, 0.40625, 'gini = 0.0\\nsamples = 2\\nvalue = [2, 0]'),\n",
              " Text(0.22727272727272727, 0.40625, 'X[6] <= 0.432\\ngini = 0.375\\nsamples = 4\\nvalue = [1, 3]'),\n",
              " Text(0.2159090909090909, 0.34375, 'gini = 0.0\\nsamples = 3\\nvalue = [0, 3]'),\n",
              " Text(0.23863636363636365, 0.34375, 'gini = 0.0\\nsamples = 1\\nvalue = [1, 0]'),\n",
              " Text(0.23863636363636365, 0.46875, 'gini = 0.0\\nsamples = 4\\nvalue = [4, 0]'),\n",
              " Text(0.3352272727272727, 0.65625, 'X[5] <= 67.0\\ngini = 0.469\\nsamples = 64\\nvalue = [40, 24]'),\n",
              " Text(0.29545454545454547, 0.59375, 'X[5] <= 58.0\\ngini = 0.465\\nsamples = 19\\nvalue = [7, 12]'),\n",
              " Text(0.2727272727272727, 0.53125, 'X[2] <= 30.05\\ngini = 0.245\\nsamples = 7\\nvalue = [6, 1]'),\n",
              " Text(0.26136363636363635, 0.46875, 'X[0] <= 4.5\\ngini = 0.5\\nsamples = 2\\nvalue = [1, 1]'),\n",
              " Text(0.25, 0.40625, 'gini = 0.0\\nsamples = 1\\nvalue = [1, 0]'),\n",
              " Text(0.2727272727272727, 0.40625, 'gini = 0.0\\nsamples = 1\\nvalue = [0, 1]'),\n",
              " Text(0.2840909090909091, 0.46875, 'gini = 0.0\\nsamples = 5\\nvalue = [5, 0]'),\n",
              " Text(0.3181818181818182, 0.53125, 'X[6] <= 0.425\\ngini = 0.153\\nsamples = 12\\nvalue = [1, 11]'),\n",
              " Text(0.3068181818181818, 0.46875, 'gini = 0.0\\nsamples = 11\\nvalue = [0, 11]'),\n",
              " Text(0.32954545454545453, 0.46875, 'gini = 0.0\\nsamples = 1\\nvalue = [1, 0]'),\n",
              " Text(0.375, 0.59375, 'X[2] <= 43.1\\ngini = 0.391\\nsamples = 45\\nvalue = [33, 12]'),\n",
              " Text(0.36363636363636365, 0.53125, 'X[4] <= 102.5\\ngini = 0.337\\nsamples = 42\\nvalue = [33, 9]'),\n",
              " Text(0.3522727272727273, 0.46875, 'gini = 0.0\\nsamples = 2\\nvalue = [0, 2]'),\n",
              " Text(0.375, 0.46875, 'X[2] <= 34.6\\ngini = 0.289\\nsamples = 40\\nvalue = [33, 7]'),\n",
              " Text(0.36363636363636365, 0.40625, 'X[3] <= 35.0\\ngini = 0.434\\nsamples = 22\\nvalue = [15, 7]'),\n",
              " Text(0.3522727272727273, 0.34375, 'gini = 0.0\\nsamples = 6\\nvalue = [6, 0]'),\n",
              " Text(0.375, 0.34375, 'X[4] <= 123.5\\ngini = 0.492\\nsamples = 16\\nvalue = [9, 7]'),\n",
              " Text(0.36363636363636365, 0.28125, 'X[6] <= 0.375\\ngini = 0.426\\nsamples = 13\\nvalue = [9, 4]'),\n",
              " Text(0.3522727272727273, 0.21875, 'X[6] <= 0.258\\ngini = 0.298\\nsamples = 11\\nvalue = [9, 2]'),\n",
              " Text(0.3409090909090909, 0.15625, 'gini = 0.0\\nsamples = 5\\nvalue = [5, 0]'),\n",
              " Text(0.36363636363636365, 0.15625, 'X[2] <= 32.0\\ngini = 0.444\\nsamples = 6\\nvalue = [4, 2]'),\n",
              " Text(0.3522727272727273, 0.09375, 'X[3] <= 57.0\\ngini = 0.444\\nsamples = 3\\nvalue = [1, 2]'),\n",
              " Text(0.3409090909090909, 0.03125, 'gini = 0.0\\nsamples = 2\\nvalue = [0, 2]'),\n",
              " Text(0.36363636363636365, 0.03125, 'gini = 0.0\\nsamples = 1\\nvalue = [1, 0]'),\n",
              " Text(0.375, 0.09375, 'gini = 0.0\\nsamples = 3\\nvalue = [3, 0]'),\n",
              " Text(0.375, 0.21875, 'gini = 0.0\\nsamples = 2\\nvalue = [0, 2]'),\n",
              " Text(0.38636363636363635, 0.28125, 'gini = 0.0\\nsamples = 3\\nvalue = [0, 3]'),\n",
              " Text(0.38636363636363635, 0.40625, 'gini = 0.0\\nsamples = 18\\nvalue = [18, 0]'),\n",
              " Text(0.38636363636363635, 0.53125, 'gini = 0.0\\nsamples = 3\\nvalue = [0, 3]'),\n",
              " Text(0.45454545454545453, 0.71875, 'X[0] <= 8.5\\ngini = 0.472\\nsamples = 42\\nvalue = [16, 26]'),\n",
              " Text(0.4431818181818182, 0.65625, 'X[5] <= 87.0\\ngini = 0.5\\nsamples = 33\\nvalue = [16, 17]'),\n",
              " Text(0.4318181818181818, 0.59375, 'X[4] <= 97.0\\ngini = 0.477\\nsamples = 28\\nvalue = [11, 17]'),\n",
              " Text(0.42045454545454547, 0.53125, 'gini = 0.0\\nsamples = 4\\nvalue = [4, 0]'),\n",
              " Text(0.4431818181818182, 0.53125, 'X[4] <= 116.5\\ngini = 0.413\\nsamples = 24\\nvalue = [7, 17]'),\n",
              " Text(0.42045454545454547, 0.46875, 'X[6] <= 1.395\\ngini = 0.165\\nsamples = 11\\nvalue = [1, 10]'),\n",
              " Text(0.4090909090909091, 0.40625, 'gini = 0.0\\nsamples = 10\\nvalue = [0, 10]'),\n",
              " Text(0.4318181818181818, 0.40625, 'gini = 0.0\\nsamples = 1\\nvalue = [1, 0]'),\n",
              " Text(0.4659090909090909, 0.46875, 'X[1] <= 78.0\\ngini = 0.497\\nsamples = 13\\nvalue = [6, 7]'),\n",
              " Text(0.45454545454545453, 0.40625, 'gini = 0.0\\nsamples = 3\\nvalue = [3, 0]'),\n",
              " Text(0.4772727272727273, 0.40625, 'X[4] <= 123.5\\ngini = 0.42\\nsamples = 10\\nvalue = [3, 7]'),\n",
              " Text(0.4659090909090909, 0.34375, 'X[4] <= 119.5\\ngini = 0.5\\nsamples = 6\\nvalue = [3, 3]'),\n",
              " Text(0.45454545454545453, 0.28125, 'gini = 0.0\\nsamples = 2\\nvalue = [0, 2]'),\n",
              " Text(0.4772727272727273, 0.28125, 'X[6] <= 0.712\\ngini = 0.375\\nsamples = 4\\nvalue = [3, 1]'),\n",
              " Text(0.4659090909090909, 0.21875, 'gini = 0.0\\nsamples = 1\\nvalue = [0, 1]'),\n",
              " Text(0.48863636363636365, 0.21875, 'gini = 0.0\\nsamples = 3\\nvalue = [3, 0]'),\n",
              " Text(0.48863636363636365, 0.34375, 'gini = 0.0\\nsamples = 4\\nvalue = [0, 4]'),\n",
              " Text(0.45454545454545453, 0.59375, 'gini = 0.0\\nsamples = 5\\nvalue = [5, 0]'),\n",
              " Text(0.4659090909090909, 0.65625, 'gini = 0.0\\nsamples = 9\\nvalue = [0, 9]'),\n",
              " Text(0.6672585227272727, 0.90625, 'X[2] <= 27.85\\ngini = 0.478\\nsamples = 180\\nvalue = [71, 109]'),\n",
              " Text(0.5113636363636364, 0.84375, 'X[4] <= 145.5\\ngini = 0.375\\nsamples = 36\\nvalue = [27, 9]'),\n",
              " Text(0.48863636363636365, 0.78125, 'X[3] <= 59.5\\ngini = 0.1\\nsamples = 19\\nvalue = [18, 1]'),\n",
              " Text(0.4772727272727273, 0.71875, 'gini = 0.0\\nsamples = 16\\nvalue = [16, 0]'),\n",
              " Text(0.5, 0.71875, 'X[2] <= 25.25\\ngini = 0.444\\nsamples = 3\\nvalue = [2, 1]'),\n",
              " Text(0.48863636363636365, 0.65625, 'gini = 0.0\\nsamples = 1\\nvalue = [0, 1]'),\n",
              " Text(0.5113636363636364, 0.65625, 'gini = 0.0\\nsamples = 2\\nvalue = [2, 0]'),\n",
              " Text(0.5340909090909091, 0.78125, 'X[3] <= 25.5\\ngini = 0.498\\nsamples = 17\\nvalue = [9, 8]'),\n",
              " Text(0.5227272727272727, 0.71875, 'gini = 0.0\\nsamples = 3\\nvalue = [3, 0]'),\n",
              " Text(0.5454545454545454, 0.71875, 'X[3] <= 62.0\\ngini = 0.49\\nsamples = 14\\nvalue = [6, 8]'),\n",
              " Text(0.5340909090909091, 0.65625, 'X[2] <= 27.0\\ngini = 0.397\\nsamples = 11\\nvalue = [3, 8]'),\n",
              " Text(0.5113636363636364, 0.59375, 'X[2] <= 22.15\\ngini = 0.219\\nsamples = 8\\nvalue = [1, 7]'),\n",
              " Text(0.5, 0.53125, 'gini = 0.0\\nsamples = 1\\nvalue = [1, 0]'),\n",
              " Text(0.5227272727272727, 0.53125, 'gini = 0.0\\nsamples = 7\\nvalue = [0, 7]'),\n",
              " Text(0.5568181818181818, 0.59375, 'X[5] <= 32.0\\ngini = 0.444\\nsamples = 3\\nvalue = [2, 1]'),\n",
              " Text(0.5454545454545454, 0.53125, 'gini = 0.0\\nsamples = 1\\nvalue = [0, 1]'),\n",
              " Text(0.5681818181818182, 0.53125, 'gini = 0.0\\nsamples = 2\\nvalue = [2, 0]'),\n",
              " Text(0.5568181818181818, 0.65625, 'gini = 0.0\\nsamples = 3\\nvalue = [3, 0]'),\n",
              " Text(0.8231534090909091, 0.84375, 'X[4] <= 158.5\\ngini = 0.424\\nsamples = 144\\nvalue = [44, 100]'),\n",
              " Text(0.6974431818181818, 0.78125, 'X[3] <= 30.5\\ngini = 0.487\\nsamples = 88\\nvalue = [37, 51]'),\n",
              " Text(0.6306818181818182, 0.71875, 'X[5] <= 23.0\\ngini = 0.49\\nsamples = 42\\nvalue = [24, 18]'),\n",
              " Text(0.6193181818181818, 0.65625, 'gini = 0.0\\nsamples = 4\\nvalue = [0, 4]'),\n",
              " Text(0.6420454545454546, 0.65625, 'X[5] <= 88.0\\ngini = 0.465\\nsamples = 38\\nvalue = [24, 14]'),\n",
              " Text(0.6306818181818182, 0.59375, 'X[5] <= 72.0\\ngini = 0.444\\nsamples = 36\\nvalue = [24, 12]'),\n",
              " Text(0.5909090909090909, 0.53125, 'X[2] <= 33.75\\ngini = 0.5\\nsamples = 20\\nvalue = [10, 10]'),\n",
              " Text(0.5681818181818182, 0.46875, 'X[2] <= 31.05\\ngini = 0.397\\nsamples = 11\\nvalue = [8, 3]'),\n",
              " Text(0.5568181818181818, 0.40625, 'X[0] <= 1.5\\ngini = 0.5\\nsamples = 6\\nvalue = [3, 3]'),\n",
              " Text(0.5454545454545454, 0.34375, 'gini = 0.0\\nsamples = 2\\nvalue = [2, 0]'),\n",
              " Text(0.5681818181818182, 0.34375, 'X[0] <= 4.5\\ngini = 0.375\\nsamples = 4\\nvalue = [1, 3]'),\n",
              " Text(0.5568181818181818, 0.28125, 'gini = 0.0\\nsamples = 3\\nvalue = [0, 3]'),\n",
              " Text(0.5795454545454546, 0.28125, 'gini = 0.0\\nsamples = 1\\nvalue = [1, 0]'),\n",
              " Text(0.5795454545454546, 0.40625, 'gini = 0.0\\nsamples = 5\\nvalue = [5, 0]'),\n",
              " Text(0.6136363636363636, 0.46875, 'X[6] <= 0.535\\ngini = 0.346\\nsamples = 9\\nvalue = [2, 7]'),\n",
              " Text(0.6022727272727273, 0.40625, 'gini = 0.0\\nsamples = 6\\nvalue = [0, 6]'),\n",
              " Text(0.625, 0.40625, 'X[5] <= 66.0\\ngini = 0.444\\nsamples = 3\\nvalue = [2, 1]'),\n",
              " Text(0.6136363636363636, 0.34375, 'gini = 0.0\\nsamples = 2\\nvalue = [2, 0]'),\n",
              " Text(0.6363636363636364, 0.34375, 'gini = 0.0\\nsamples = 1\\nvalue = [0, 1]'),\n",
              " Text(0.6704545454545454, 0.53125, 'X[4] <= 157.5\\ngini = 0.219\\nsamples = 16\\nvalue = [14, 2]'),\n",
              " Text(0.6590909090909091, 0.46875, 'X[5] <= 85.5\\ngini = 0.124\\nsamples = 15\\nvalue = [14, 1]'),\n",
              " Text(0.6477272727272727, 0.40625, 'gini = 0.0\\nsamples = 13\\nvalue = [13, 0]'),\n",
              " Text(0.6704545454545454, 0.40625, 'X[6] <= 0.769\\ngini = 0.5\\nsamples = 2\\nvalue = [1, 1]'),\n",
              " Text(0.6590909090909091, 0.34375, 'gini = 0.0\\nsamples = 1\\nvalue = [0, 1]'),\n",
              " Text(0.6818181818181818, 0.34375, 'gini = 0.0\\nsamples = 1\\nvalue = [1, 0]'),\n",
              " Text(0.6818181818181818, 0.46875, 'gini = 0.0\\nsamples = 1\\nvalue = [0, 1]'),\n",
              " Text(0.6534090909090909, 0.59375, 'gini = 0.0\\nsamples = 2\\nvalue = [0, 2]'),\n",
              " Text(0.7642045454545454, 0.71875, 'X[2] <= 34.05\\ngini = 0.405\\nsamples = 46\\nvalue = [13, 33]'),\n",
              " Text(0.7159090909090909, 0.65625, 'X[5] <= 75.0\\ngini = 0.49\\nsamples = 21\\nvalue = [9, 12]'),\n",
              " Text(0.7045454545454546, 0.59375, 'gini = 0.0\\nsamples = 4\\nvalue = [4, 0]'),\n",
              " Text(0.7272727272727273, 0.59375, 'X[6] <= 0.436\\ngini = 0.415\\nsamples = 17\\nvalue = [5, 12]'),\n",
              " Text(0.7159090909090909, 0.53125, 'X[6] <= 0.371\\ngini = 0.496\\nsamples = 11\\nvalue = [5, 6]'),\n",
              " Text(0.7045454545454546, 0.46875, 'X[2] <= 29.7\\ngini = 0.444\\nsamples = 9\\nvalue = [3, 6]'),\n",
              " Text(0.6931818181818182, 0.40625, 'gini = 0.0\\nsamples = 3\\nvalue = [0, 3]'),\n",
              " Text(0.7159090909090909, 0.40625, 'X[2] <= 32.45\\ngini = 0.5\\nsamples = 6\\nvalue = [3, 3]'),\n",
              " Text(0.7045454545454546, 0.34375, 'X[6] <= 0.164\\ngini = 0.375\\nsamples = 4\\nvalue = [3, 1]'),\n",
              " Text(0.6931818181818182, 0.28125, 'gini = 0.0\\nsamples = 1\\nvalue = [0, 1]'),\n",
              " Text(0.7159090909090909, 0.28125, 'gini = 0.0\\nsamples = 3\\nvalue = [3, 0]'),\n",
              " Text(0.7272727272727273, 0.34375, 'gini = 0.0\\nsamples = 2\\nvalue = [0, 2]'),\n",
              " Text(0.7272727272727273, 0.46875, 'gini = 0.0\\nsamples = 2\\nvalue = [2, 0]'),\n",
              " Text(0.7386363636363636, 0.53125, 'gini = 0.0\\nsamples = 6\\nvalue = [0, 6]'),\n",
              " Text(0.8125, 0.65625, 'X[6] <= 1.088\\ngini = 0.269\\nsamples = 25\\nvalue = [4, 21]'),\n",
              " Text(0.7840909090909091, 0.59375, 'X[1] <= 306.5\\ngini = 0.172\\nsamples = 21\\nvalue = [2, 19]'),\n",
              " Text(0.7613636363636364, 0.53125, 'X[2] <= 44.6\\ngini = 0.1\\nsamples = 19\\nvalue = [1, 18]'),\n",
              " Text(0.75, 0.46875, 'gini = 0.0\\nsamples = 16\\nvalue = [0, 16]'),\n",
              " Text(0.7727272727272727, 0.46875, 'X[0] <= 6.0\\ngini = 0.444\\nsamples = 3\\nvalue = [1, 2]'),\n",
              " Text(0.7613636363636364, 0.40625, 'gini = 0.0\\nsamples = 1\\nvalue = [1, 0]'),\n",
              " Text(0.7840909090909091, 0.40625, 'gini = 0.0\\nsamples = 2\\nvalue = [0, 2]'),\n",
              " Text(0.8068181818181818, 0.53125, 'X[2] <= 40.45\\ngini = 0.5\\nsamples = 2\\nvalue = [1, 1]'),\n",
              " Text(0.7954545454545454, 0.46875, 'gini = 0.0\\nsamples = 1\\nvalue = [1, 0]'),\n",
              " Text(0.8181818181818182, 0.46875, 'gini = 0.0\\nsamples = 1\\nvalue = [0, 1]'),\n",
              " Text(0.8409090909090909, 0.59375, 'X[1] <= 147.5\\ngini = 0.5\\nsamples = 4\\nvalue = [2, 2]'),\n",
              " Text(0.8295454545454546, 0.53125, 'gini = 0.0\\nsamples = 2\\nvalue = [2, 0]'),\n",
              " Text(0.8522727272727273, 0.53125, 'gini = 0.0\\nsamples = 2\\nvalue = [0, 2]'),\n",
              " Text(0.9488636363636364, 0.78125, 'X[6] <= 1.157\\ngini = 0.219\\nsamples = 56\\nvalue = [7, 49]'),\n",
              " Text(0.9204545454545454, 0.71875, 'X[6] <= 0.343\\ngini = 0.147\\nsamples = 50\\nvalue = [4, 46]'),\n",
              " Text(0.9090909090909091, 0.65625, 'X[3] <= 48.5\\ngini = 0.332\\nsamples = 19\\nvalue = [4, 15]'),\n",
              " Text(0.8863636363636364, 0.59375, 'X[4] <= 177.0\\ngini = 0.219\\nsamples = 16\\nvalue = [2, 14]'),\n",
              " Text(0.875, 0.53125, 'gini = 0.0\\nsamples = 9\\nvalue = [0, 9]'),\n",
              " Text(0.8977272727272727, 0.53125, 'X[6] <= 0.206\\ngini = 0.408\\nsamples = 7\\nvalue = [2, 5]'),\n",
              " Text(0.8863636363636364, 0.46875, 'gini = 0.0\\nsamples = 1\\nvalue = [1, 0]'),\n",
              " Text(0.9090909090909091, 0.46875, 'X[4] <= 187.5\\ngini = 0.278\\nsamples = 6\\nvalue = [1, 5]'),\n",
              " Text(0.8977272727272727, 0.40625, 'gini = 0.0\\nsamples = 4\\nvalue = [0, 4]'),\n",
              " Text(0.9204545454545454, 0.40625, 'X[3] <= 32.5\\ngini = 0.5\\nsamples = 2\\nvalue = [1, 1]'),\n",
              " Text(0.9090909090909091, 0.34375, 'gini = 0.0\\nsamples = 1\\nvalue = [0, 1]'),\n",
              " Text(0.9318181818181818, 0.34375, 'gini = 0.0\\nsamples = 1\\nvalue = [1, 0]'),\n",
              " Text(0.9318181818181818, 0.59375, 'X[2] <= 34.85\\ngini = 0.444\\nsamples = 3\\nvalue = [2, 1]'),\n",
              " Text(0.9204545454545454, 0.53125, 'gini = 0.0\\nsamples = 2\\nvalue = [2, 0]'),\n",
              " Text(0.9431818181818182, 0.53125, 'gini = 0.0\\nsamples = 1\\nvalue = [0, 1]'),\n",
              " Text(0.9318181818181818, 0.65625, 'gini = 0.0\\nsamples = 31\\nvalue = [0, 31]'),\n",
              " Text(0.9772727272727273, 0.71875, 'X[2] <= 40.4\\ngini = 0.5\\nsamples = 6\\nvalue = [3, 3]'),\n",
              " Text(0.9659090909090909, 0.65625, 'X[5] <= 71.0\\ngini = 0.375\\nsamples = 4\\nvalue = [1, 3]'),\n",
              " Text(0.9545454545454546, 0.59375, 'gini = 0.0\\nsamples = 1\\nvalue = [1, 0]'),\n",
              " Text(0.9772727272727273, 0.59375, 'gini = 0.0\\nsamples = 3\\nvalue = [0, 3]'),\n",
              " Text(0.9886363636363636, 0.65625, 'gini = 0.0\\nsamples = 2\\nvalue = [2, 0]')]"
            ]
          },
          "metadata": {},
          "execution_count": 122
        },
        {
          "output_type": "display_data",
          "data": {
            "text/plain": [
              "<Figure size 432x288 with 1 Axes>"
            ],
            "image/png": "[encoded data removed]"
          },
          "metadata": {
            "needs_background": "light"
          }
        }
      ]
    }
  ]
}